{
 "cells": [
  {
   "cell_type": "markdown",
   "metadata": {},
   "source": [
    "# Lungs Tumor Segmentation"
   ]
  },
  {
   "cell_type": "code",
   "execution_count": 2,
   "metadata": {},
   "outputs": [],
   "source": [
    "# importing libraries\n",
    "import monai\n",
    "import torch \n",
    "import torchvision"
   ]
  },
  {
   "cell_type": "code",
   "execution_count": 6,
   "metadata": {},
   "outputs": [
    {
     "ename": "KeyboardInterrupt",
     "evalue": "",
     "output_type": "error",
     "traceback": [
      "\u001b[0;31m---------------------------------------------------------------------------\u001b[0m",
      "\u001b[0;31mKeyboardInterrupt\u001b[0m                         Traceback (most recent call last)",
      "\u001b[1;32m/workspace/Lungs-Tumor-segmentation/segmentor/notebook.ipynb Cell 3'\u001b[0m in \u001b[0;36m<cell line: 2>\u001b[0;34m()\u001b[0m\n\u001b[1;32m      <a href='vscode-notebook-cell://bhimrazy-lungstumorsegm-3ips9im708p.ws-us42.gitpod.io/workspace/Lungs-Tumor-segmentation/segmentor/notebook.ipynb#ch0000003vscode-remote?line=0'>1</a>\u001b[0m \u001b[39m#download dataset from monai\u001b[39;00m\n\u001b[0;32m----> <a href='vscode-notebook-cell://bhimrazy-lungstumorsegm-3ips9im708p.ws-us42.gitpod.io/workspace/Lungs-Tumor-segmentation/segmentor/notebook.ipynb#ch0000003vscode-remote?line=1'>2</a>\u001b[0m lung_dataset \u001b[39m=\u001b[39m monai\u001b[39m.\u001b[39;49mapps\u001b[39m.\u001b[39;49mDecathlonDataset(root_dir\u001b[39m=\u001b[39;49m\u001b[39m\"\u001b[39;49m\u001b[39m./datasets\u001b[39;49m\u001b[39m\"\u001b[39;49m, task\u001b[39m=\u001b[39;49m\u001b[39m\"\u001b[39;49m\u001b[39mTask06_Lung\u001b[39;49m\u001b[39m\"\u001b[39;49m, section\u001b[39m=\u001b[39;49m\u001b[39m\"\u001b[39;49m\u001b[39mtraining\u001b[39;49m\u001b[39m\"\u001b[39;49m, transform\u001b[39m=\u001b[39;49m\u001b[39mNone\u001b[39;49;00m, download\u001b[39m=\u001b[39;49m\u001b[39mTrue\u001b[39;49;00m)\n\u001b[1;32m      <a href='vscode-notebook-cell://bhimrazy-lungstumorsegm-3ips9im708p.ws-us42.gitpod.io/workspace/Lungs-Tumor-segmentation/segmentor/notebook.ipynb#ch0000003vscode-remote?line=2'>3</a>\u001b[0m \u001b[39mprint\u001b[39m(\u001b[39mf\u001b[39m\u001b[39m\"\u001b[39m\u001b[39m\\n\u001b[39;00m\u001b[39mnumber of subjects: \u001b[39m\u001b[39m{\u001b[39;00m\u001b[39mlen\u001b[39m(dataset)\u001b[39m}\u001b[39;00m\u001b[39m.\u001b[39m\u001b[39m\\n\u001b[39;00m\u001b[39mThe first element in the dataset is \u001b[39m\u001b[39m{\u001b[39;00mlung_dataset[\u001b[39m0\u001b[39m]\u001b[39m}\u001b[39;00m\u001b[39m.\u001b[39m\u001b[39m\"\u001b[39m)\n",
      "File \u001b[0;32m/workspace/Lungs-Tumor-segmentation/venv/lib/python3.8/site-packages/monai/apps/datasets.py:293\u001b[0m, in \u001b[0;36mDecathlonDataset.__init__\u001b[0;34m(self, root_dir, task, section, transform, download, seed, val_frac, cache_num, cache_rate, num_workers, progress, copy_cache, as_contiguous)\u001b[0m\n\u001b[1;32m    <a href='file:///workspace/Lungs-Tumor-segmentation/venv/lib/python3.8/site-packages/monai/apps/datasets.py?line=290'>291</a>\u001b[0m tarfile_name \u001b[39m=\u001b[39m \u001b[39mf\u001b[39m\u001b[39m\"\u001b[39m\u001b[39m{\u001b[39;00mdataset_dir\u001b[39m}\u001b[39;00m\u001b[39m.tar\u001b[39m\u001b[39m\"\u001b[39m\n\u001b[1;32m    <a href='file:///workspace/Lungs-Tumor-segmentation/venv/lib/python3.8/site-packages/monai/apps/datasets.py?line=291'>292</a>\u001b[0m \u001b[39mif\u001b[39;00m download:\n\u001b[0;32m--> <a href='file:///workspace/Lungs-Tumor-segmentation/venv/lib/python3.8/site-packages/monai/apps/datasets.py?line=292'>293</a>\u001b[0m     download_and_extract(\n\u001b[1;32m    <a href='file:///workspace/Lungs-Tumor-segmentation/venv/lib/python3.8/site-packages/monai/apps/datasets.py?line=293'>294</a>\u001b[0m         url\u001b[39m=\u001b[39;49m\u001b[39mself\u001b[39;49m\u001b[39m.\u001b[39;49mresource[task],\n\u001b[1;32m    <a href='file:///workspace/Lungs-Tumor-segmentation/venv/lib/python3.8/site-packages/monai/apps/datasets.py?line=294'>295</a>\u001b[0m         filepath\u001b[39m=\u001b[39;49mtarfile_name,\n\u001b[1;32m    <a href='file:///workspace/Lungs-Tumor-segmentation/venv/lib/python3.8/site-packages/monai/apps/datasets.py?line=295'>296</a>\u001b[0m         output_dir\u001b[39m=\u001b[39;49mroot_dir,\n\u001b[1;32m    <a href='file:///workspace/Lungs-Tumor-segmentation/venv/lib/python3.8/site-packages/monai/apps/datasets.py?line=296'>297</a>\u001b[0m         hash_val\u001b[39m=\u001b[39;49m\u001b[39mself\u001b[39;49m\u001b[39m.\u001b[39;49mmd5[task],\n\u001b[1;32m    <a href='file:///workspace/Lungs-Tumor-segmentation/venv/lib/python3.8/site-packages/monai/apps/datasets.py?line=297'>298</a>\u001b[0m         hash_type\u001b[39m=\u001b[39;49m\u001b[39m\"\u001b[39;49m\u001b[39mmd5\u001b[39;49m\u001b[39m\"\u001b[39;49m,\n\u001b[1;32m    <a href='file:///workspace/Lungs-Tumor-segmentation/venv/lib/python3.8/site-packages/monai/apps/datasets.py?line=298'>299</a>\u001b[0m         progress\u001b[39m=\u001b[39;49mprogress,\n\u001b[1;32m    <a href='file:///workspace/Lungs-Tumor-segmentation/venv/lib/python3.8/site-packages/monai/apps/datasets.py?line=299'>300</a>\u001b[0m     )\n\u001b[1;32m    <a href='file:///workspace/Lungs-Tumor-segmentation/venv/lib/python3.8/site-packages/monai/apps/datasets.py?line=301'>302</a>\u001b[0m \u001b[39mif\u001b[39;00m \u001b[39mnot\u001b[39;00m dataset_dir\u001b[39m.\u001b[39mexists():\n\u001b[1;32m    <a href='file:///workspace/Lungs-Tumor-segmentation/venv/lib/python3.8/site-packages/monai/apps/datasets.py?line=302'>303</a>\u001b[0m     \u001b[39mraise\u001b[39;00m \u001b[39mRuntimeError\u001b[39;00m(\n\u001b[1;32m    <a href='file:///workspace/Lungs-Tumor-segmentation/venv/lib/python3.8/site-packages/monai/apps/datasets.py?line=303'>304</a>\u001b[0m         \u001b[39mf\u001b[39m\u001b[39m\"\u001b[39m\u001b[39mCannot find dataset directory: \u001b[39m\u001b[39m{\u001b[39;00mdataset_dir\u001b[39m}\u001b[39;00m\u001b[39m, please use download=True to download it.\u001b[39m\u001b[39m\"\u001b[39m\n\u001b[1;32m    <a href='file:///workspace/Lungs-Tumor-segmentation/venv/lib/python3.8/site-packages/monai/apps/datasets.py?line=304'>305</a>\u001b[0m     )\n",
      "File \u001b[0;32m/workspace/Lungs-Tumor-segmentation/venv/lib/python3.8/site-packages/monai/apps/utils.py:303\u001b[0m, in \u001b[0;36mdownload_and_extract\u001b[0;34m(url, filepath, output_dir, hash_val, hash_type, file_type, has_base, progress)\u001b[0m\n\u001b[1;32m    <a href='file:///workspace/Lungs-Tumor-segmentation/venv/lib/python3.8/site-packages/monai/apps/utils.py?line=300'>301</a>\u001b[0m \u001b[39mwith\u001b[39;00m tempfile\u001b[39m.\u001b[39mTemporaryDirectory() \u001b[39mas\u001b[39;00m tmp_dir:\n\u001b[1;32m    <a href='file:///workspace/Lungs-Tumor-segmentation/venv/lib/python3.8/site-packages/monai/apps/utils.py?line=301'>302</a>\u001b[0m     filename \u001b[39m=\u001b[39m filepath \u001b[39mor\u001b[39;00m Path(tmp_dir, _basename(url))\u001b[39m.\u001b[39mresolve()\n\u001b[0;32m--> <a href='file:///workspace/Lungs-Tumor-segmentation/venv/lib/python3.8/site-packages/monai/apps/utils.py?line=302'>303</a>\u001b[0m     download_url(url\u001b[39m=\u001b[39;49murl, filepath\u001b[39m=\u001b[39;49mfilename, hash_val\u001b[39m=\u001b[39;49mhash_val, hash_type\u001b[39m=\u001b[39;49mhash_type, progress\u001b[39m=\u001b[39;49mprogress)\n\u001b[1;32m    <a href='file:///workspace/Lungs-Tumor-segmentation/venv/lib/python3.8/site-packages/monai/apps/utils.py?line=303'>304</a>\u001b[0m     extractall(filepath\u001b[39m=\u001b[39mfilename, output_dir\u001b[39m=\u001b[39moutput_dir, file_type\u001b[39m=\u001b[39mfile_type, has_base\u001b[39m=\u001b[39mhas_base)\n",
      "File \u001b[0;32m/workspace/Lungs-Tumor-segmentation/venv/lib/python3.8/site-packages/monai/apps/utils.py:180\u001b[0m, in \u001b[0;36mdownload_url\u001b[0;34m(url, filepath, hash_val, hash_type, progress)\u001b[0m\n\u001b[1;32m    <a href='file:///workspace/Lungs-Tumor-segmentation/venv/lib/python3.8/site-packages/monai/apps/utils.py?line=177'>178</a>\u001b[0m filepath \u001b[39m=\u001b[39m Path(filepath)\n\u001b[1;32m    <a href='file:///workspace/Lungs-Tumor-segmentation/venv/lib/python3.8/site-packages/monai/apps/utils.py?line=178'>179</a>\u001b[0m \u001b[39mif\u001b[39;00m filepath\u001b[39m.\u001b[39mexists():\n\u001b[0;32m--> <a href='file:///workspace/Lungs-Tumor-segmentation/venv/lib/python3.8/site-packages/monai/apps/utils.py?line=179'>180</a>\u001b[0m     \u001b[39mif\u001b[39;00m \u001b[39mnot\u001b[39;00m check_hash(filepath, hash_val, hash_type):\n\u001b[1;32m    <a href='file:///workspace/Lungs-Tumor-segmentation/venv/lib/python3.8/site-packages/monai/apps/utils.py?line=180'>181</a>\u001b[0m         \u001b[39mraise\u001b[39;00m \u001b[39mRuntimeError\u001b[39;00m(\n\u001b[1;32m    <a href='file:///workspace/Lungs-Tumor-segmentation/venv/lib/python3.8/site-packages/monai/apps/utils.py?line=181'>182</a>\u001b[0m             \u001b[39mf\u001b[39m\u001b[39m\"\u001b[39m\u001b[39m{\u001b[39;00mhash_type\u001b[39m}\u001b[39;00m\u001b[39m check of existing file failed: filepath=\u001b[39m\u001b[39m{\u001b[39;00mfilepath\u001b[39m}\u001b[39;00m\u001b[39m, expected \u001b[39m\u001b[39m{\u001b[39;00mhash_type\u001b[39m}\u001b[39;00m\u001b[39m=\u001b[39m\u001b[39m{\u001b[39;00mhash_val\u001b[39m}\u001b[39;00m\u001b[39m.\u001b[39m\u001b[39m\"\u001b[39m\n\u001b[1;32m    <a href='file:///workspace/Lungs-Tumor-segmentation/venv/lib/python3.8/site-packages/monai/apps/utils.py?line=182'>183</a>\u001b[0m         )\n\u001b[1;32m    <a href='file:///workspace/Lungs-Tumor-segmentation/venv/lib/python3.8/site-packages/monai/apps/utils.py?line=183'>184</a>\u001b[0m     logger\u001b[39m.\u001b[39minfo(\u001b[39mf\u001b[39m\u001b[39m\"\u001b[39m\u001b[39mFile exists: \u001b[39m\u001b[39m{\u001b[39;00mfilepath\u001b[39m}\u001b[39;00m\u001b[39m, skipped downloading.\u001b[39m\u001b[39m\"\u001b[39m)\n",
      "File \u001b[0;32m/workspace/Lungs-Tumor-segmentation/venv/lib/python3.8/site-packages/monai/apps/utils.py:137\u001b[0m, in \u001b[0;36mcheck_hash\u001b[0;34m(filepath, val, hash_type)\u001b[0m\n\u001b[1;32m    <a href='file:///workspace/Lungs-Tumor-segmentation/venv/lib/python3.8/site-packages/monai/apps/utils.py?line=134'>135</a>\u001b[0m     \u001b[39mwith\u001b[39;00m \u001b[39mopen\u001b[39m(filepath, \u001b[39m\"\u001b[39m\u001b[39mrb\u001b[39m\u001b[39m\"\u001b[39m) \u001b[39mas\u001b[39;00m f:\n\u001b[1;32m    <a href='file:///workspace/Lungs-Tumor-segmentation/venv/lib/python3.8/site-packages/monai/apps/utils.py?line=135'>136</a>\u001b[0m         \u001b[39mfor\u001b[39;00m chunk \u001b[39min\u001b[39;00m \u001b[39miter\u001b[39m(\u001b[39mlambda\u001b[39;00m: f\u001b[39m.\u001b[39mread(\u001b[39m1024\u001b[39m \u001b[39m*\u001b[39m \u001b[39m1024\u001b[39m), \u001b[39mb\u001b[39m\u001b[39m\"\u001b[39m\u001b[39m\"\u001b[39m):\n\u001b[0;32m--> <a href='file:///workspace/Lungs-Tumor-segmentation/venv/lib/python3.8/site-packages/monai/apps/utils.py?line=136'>137</a>\u001b[0m             actual_hash\u001b[39m.\u001b[39;49mupdate(chunk)\n\u001b[1;32m    <a href='file:///workspace/Lungs-Tumor-segmentation/venv/lib/python3.8/site-packages/monai/apps/utils.py?line=137'>138</a>\u001b[0m \u001b[39mexcept\u001b[39;00m \u001b[39mException\u001b[39;00m \u001b[39mas\u001b[39;00m e:\n\u001b[1;32m    <a href='file:///workspace/Lungs-Tumor-segmentation/venv/lib/python3.8/site-packages/monai/apps/utils.py?line=138'>139</a>\u001b[0m     logger\u001b[39m.\u001b[39merror(\u001b[39mf\u001b[39m\u001b[39m\"\u001b[39m\u001b[39mException in check_hash: \u001b[39m\u001b[39m{\u001b[39;00me\u001b[39m}\u001b[39;00m\u001b[39m\"\u001b[39m)\n",
      "\u001b[0;31mKeyboardInterrupt\u001b[0m: "
     ]
    }
   ],
   "source": [
    "#download dataset from monai\n",
    "lung_dataset = monai.apps.DecathlonDataset(root_dir=\"./datasets\", task=\"Task06_Lung\", section=\"training\", transform=None, download=True)\n",
    "print(f\"\\nnumber of subjects: {len(dataset)}.\\nThe first element in the dataset is {lung_dataset[0]}.\")"
   ]
  }
 ],
 "metadata": {
  "interpreter": {
   "hash": "3e2f3127f66f2917a1a7a815e52ae679ff8e541519a0a269bc9a7b3c5d5c0c9c"
  },
  "kernelspec": {
   "display_name": "Python 3.8.13 ('venv': venv)",
   "language": "python",
   "name": "python3"
  },
  "language_info": {
   "codemirror_mode": {
    "name": "ipython",
    "version": 3
   },
   "file_extension": ".py",
   "mimetype": "text/x-python",
   "name": "python",
   "nbconvert_exporter": "python",
   "pygments_lexer": "ipython3",
   "version": "3.8.13"
  },
  "orig_nbformat": 4
 },
 "nbformat": 4,
 "nbformat_minor": 2
}
